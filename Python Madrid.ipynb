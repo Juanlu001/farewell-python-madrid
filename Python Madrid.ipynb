{
 "cells": [
  {
   "cell_type": "markdown",
   "metadata": {
    "slideshow": {
     "slide_type": "slide"
    }
   },
   "source": [
    "# Pasado, presente y futuro de Python Madrid\n",
    "\n",
    "### Juan Luis Cano <hello@juanlu.space>\n",
    "\n",
    "![Python Madrid](https://pybonacci.org/wp-content/uploads/2015/10/cami_white.jpg)"
   ]
  },
  {
   "cell_type": "markdown",
   "metadata": {
    "slideshow": {
     "slide_type": "slide"
    }
   },
   "source": [
    "## Un poco de historia"
   ]
  },
  {
   "cell_type": "markdown",
   "metadata": {
    "slideshow": {
     "slide_type": "fragment"
    }
   },
   "source": [
    "* Primeras reuniones: Jesús Cea, Python 1.5.1, ¿año 1996?"
   ]
  },
  {
   "cell_type": "markdown",
   "metadata": {
    "slideshow": {
     "slide_type": "fragment"
    }
   },
   "source": [
    "* Primera reunión en Alea Soluciones en febrero de 2011, organizada por Pablo Lobariñas https://python-madrid.es/meetings/reuniones-febrero-septiembre-2011-python-madrid/"
   ]
  },
  {
   "cell_type": "markdown",
   "metadata": {
    "slideshow": {
     "slide_type": "subslide"
    }
   },
   "source": [
    "* Logo y camisetas de Python Madrid por Rubén Hidalgo en febrero de 2012\n",
    "\n",
    "![Python Madrid](https://pybonacci.org/wp-content/uploads/2015/10/cami_white.jpg)"
   ]
  },
  {
   "cell_type": "markdown",
   "metadata": {
    "slideshow": {
     "slide_type": "subslide"
    }
   },
   "source": [
    "* ¡PyConES en Madrid en 2013! http://2013.es.pycon.org/\n",
    "\n",
    "![PyConES 2013](img/pycones2013.jpg)"
   ]
  },
  {
   "cell_type": "markdown",
   "metadata": {
    "slideshow": {
     "slide_type": "subslide"
    }
   },
   "source": [
    "* Primera confusión del logo de Python Madrid con el de pandas en enero de 2015 http://dataconomy.com/2015/01/python-packages-for-data-mining/\n",
    "\n",
    "![pandas](img/pandas.png)"
   ]
  },
  {
   "cell_type": "markdown",
   "metadata": {
    "slideshow": {
     "slide_type": "subslide"
    }
   },
   "source": [
    "* Punto de inflexión: Meetup en Campus Madrid en septiembre de 2015, ¡250 apuntados!\n",
    "\n",
    "![Campus Madrid](img/campus.jpg)"
   ]
  },
  {
   "cell_type": "markdown",
   "metadata": {
    "slideshow": {
     "slide_type": "subslide"
    }
   },
   "source": [
    "* PyData Madrid en abril de 2016, 200 asistentes, ¡todo en inglés!\n",
    "* PyDay Madrid en septiembre de 2016\n",
    "* Primera reunión del grupo de estudio en octubre de 2016"
   ]
  },
  {
   "cell_type": "markdown",
   "metadata": {
    "slideshow": {
     "slide_type": "slide"
    }
   },
   "source": [
    "# El presente\n",
    "\n",
    "* En torno a 70 reuniones\n",
    "* Más de 100 charlas\n",
    "* Casi 2800 miembros\n",
    "* De los cuales 340 nos han visitado en el último mes"
   ]
  },
  {
   "cell_type": "markdown",
   "metadata": {
    "slideshow": {
     "slide_type": "slide"
    }
   },
   "source": [
    "## ...\n",
    "\n",
    "![Tears](img/tears.jpg)"
   ]
  },
  {
   "cell_type": "markdown",
   "metadata": {
    "slideshow": {
     "slide_type": "slide"
    }
   },
   "source": [
    "# ¿El futuro?\n",
    "\n",
    "![Organizers](img/organizers.png)"
   ]
  },
  {
   "cell_type": "markdown",
   "metadata": {
    "slideshow": {
     "slide_type": "subslide"
    }
   },
   "source": [
    "* ¿Más variedad de charlas? ¿Otros temas?"
   ]
  },
  {
   "cell_type": "markdown",
   "metadata": {
    "slideshow": {
     "slide_type": "slide"
    }
   },
   "source": [
    "* ¿Más grupos de autoestudio?"
   ]
  },
  {
   "cell_type": "markdown",
   "metadata": {
    "slideshow": {
     "slide_type": "slide"
    }
   },
   "source": [
    "* ¿Más talleres?"
   ]
  },
  {
   "cell_type": "markdown",
   "metadata": {
    "slideshow": {
     "slide_type": "slide"
    }
   },
   "source": [
    "* ¿Más charlas no técnicas?"
   ]
  },
  {
   "cell_type": "markdown",
   "metadata": {
    "slideshow": {
     "slide_type": "fragment"
    }
   },
   "source": [
    "* ¿Más patrocinadores?"
   ]
  },
  {
   "cell_type": "markdown",
   "metadata": {
    "slideshow": {
     "slide_type": "slide"
    }
   },
   "source": [
    "# ¡Hasta pronto y mucha suerte!\n",
    "\n",
    "## https://www.meetup.com/Madrid-Python-Meetup/"
   ]
  }
 ],
 "metadata": {
  "celltoolbar": "Slideshow",
  "kernelspec": {
   "display_name": "Python 3",
   "language": "python",
   "name": "python3"
  },
  "language_info": {
   "codemirror_mode": {
    "name": "ipython",
    "version": 3
   },
   "file_extension": ".py",
   "mimetype": "text/x-python",
   "name": "python",
   "nbconvert_exporter": "python",
   "pygments_lexer": "ipython3",
   "version": "3.6.1"
  }
 },
 "nbformat": 4,
 "nbformat_minor": 2
}
